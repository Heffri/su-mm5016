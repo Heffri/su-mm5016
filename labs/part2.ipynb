{
 "cells": [
  {
   "cell_type": "markdown",
   "id": "26325dbf",
   "metadata": {},
   "source": [
    "# Lab 5 - Part 2\n"
   ]
  },
  {
   "cell_type": "markdown",
   "id": "597d0220",
   "metadata": {},
   "source": [
    "## Getting acquainted with LU-factorization\n",
    "> Compute (with pen and paper) the LU factorization of the matrix, with partial pivoting\n",
    "$$\n",
    "A=\\left[\\begin{array}{ccc}\n",
    "2 & -1 & 1 \\\\\n",
    "1 & -2 & 1 \\\\\n",
    "2 & 1 & -4\n",
    "\\end{array}\\right]\n",
    "$$\n",
    "> Include the derivation in your hand in. Check if $P A=L U$ to ensure that you did it correctly.\n",
    "> Use scipy.linalg.lu_factor to perform the same calculation and check that it is the same. You don't need to include anything from this task in the hand in."
   ]
  },
  {
   "cell_type": "markdown",
   "id": "72bf1769",
   "metadata": {},
   "source": [
    "Here is the shortened solution for the LU factorization with partial pivoting:\n",
    "\n",
    "Initial matrices:\n",
    "$$ P = \\left[\\begin{array}{ccc} 1 & 0 & 0 \\\\ 0 & 1 & 0 \\\\ 0 & 0 & 1 \\end{array}\\right], \\quad L = \\left[\\begin{array}{ccc} 1 & 0 & 0 \\\\ 0 & 1 & 0 \\\\ 0 & 0 & 1 \\end{array}\\right], \\quad U = A = \\left[\\begin{array}{ccc} 2 & -1 & 1 \\\\ 1 & -2 & 1 \\\\ 2 & 1 & -4 \\end{array}\\right] $$\n",
    "\n",
    "step1: Process first column.\n",
    "-   Pivoting: The largest absolute value in the first column is 2 (in R1 or R3). We choose $U_{11}$ as the pivot. No row swap is performed.\n",
    "-   Elimination: Eliminate entries below $U_{11}$.\n",
    "    -   $R_2 \\leftarrow R_2 - (1/2)R_1$. Store $l_{21} = 1/2$ in $L$.\n",
    "    -   $R_3 \\leftarrow R_3 - (1)R_1$. Store $l_{31} = 1$ in $L$.\n",
    "$$ P = \\left[\\begin{array}{ccc} 1 & 0 & 0 \\\\ 0 & 1 & 0 \\\\ 0 & 0 & 1 \\end{array}\\right], \\quad L = \\left[\\begin{array}{ccc} 1 & 0 & 0 \\\\ 1/2 & 1 & 0 \\\\ 1 & 0 & 1 \\end{array}\\right], \\quad U = \\left[\\begin{array}{ccc} 2 & -1 & 1 \\\\ 0 & -3/2 & 1/2 \\\\ 0 & 2 & -5 \\end{array}\\right] $$\n",
    "\n",
    "step2: Process second column (from row 2 downwards).\n",
    "-   Pivoting: The elements are $(-3/2, 2)$. The largest absolute value is $|2|$ in R3. Swap R2 and R3.\n",
    "    -   Swap R2 and R3 in $U$.\n",
    "    -   Swap R2 and R3 in $P$.\n",
    "    -   Swap the multipliers in column 1 of $L$ corresponding to rows 2 and 3 ($L_{21}$ and $L_{31}$).\n",
    "    After swap:\n",
    "    $$ P = \\left[\\begin{array}{ccc} 1 & 0 & 0 \\\\ 0 & 0 & 1 \\\\ 0 & 1 & 0 \\end{array}\\right], \\quad L = \\left[\\begin{array}{ccc} 1 & 0 & 0 \\\\ 1 & 1 & 0 \\\\ 1/2 & 0 & 1 \\end{array}\\right], \\quad U = \\left[\\begin{array}{ccc} 2 & -1 & 1 \\\\ 0 & 2 & -5 \\\\ 0 & -3/2 & 1/2 \\end{array}\\right] $$\n",
    "-   Elimination: Eliminate the entry below the new pivot $U_{22}=2$.\n",
    "    -   $R_3 \\leftarrow R_3 - (-3/4)R_2$. Store $l_{32} = -3/4$ in $L$.\n",
    "$$ P = \\left[\\begin{array}{ccc} 1 & 0 & 0 \\\\ 0 & 0 & 1 \\\\ 0 & 1 & 0 \\end{array}\\right], \\quad L = \\left[\\begin{array}{ccc} 1 & 0 & 0 \\\\ 1 & 1 & 0 \\\\ 1/2 & -3/4 & 1 \\end{array}\\right], \\quad U = \\left[\\begin{array}{ccc} 2 & -1 & 1 \\\\ 0 & 2 & -5 \\\\ 0 & 0 & -13/4 \\end{array}\\right] $$\n",
    "\n",
    "The final matrices are:\n",
    "$$ P = \\left[\\begin{array}{ccc} 1 & 0 & 0 \\\\ 0 & 0 & 1 \\\\ 0 & 1 & 0 \\end{array}\\right], \\quad L = \\left[\\begin{array}{ccc} 1 & 0 & 0 \\\\ 1 & 1 & 0 \\\\ 1/2 & -3/4 & 1 \\end{array}\\right], \\quad U = \\left[\\begin{array}{ccc} 2 & -1 & 1 \\\\ 0 & 2 & -5 \\\\ 0 & 0 & -13/4 \\end{array}\\right] $$"
   ]
  },
  {
   "cell_type": "markdown",
   "id": "3cb80a9a",
   "metadata": {},
   "source": [
    "## Code\n",
    "Consider the BVP that you worked in in the last lab, but with a time-dependent boundary condition\n",
    "\n",
    "$$\n",
    "\\begin{aligned}\n",
    "& y^{\\prime \\prime}(x)+y(x)=0 \\\\\n",
    "& y(x=0)=1 \\\\\n",
    "& y(x=\\pi / 2)=2 \\sin (\\pi t)\n",
    "\\end{aligned}\n",
    "$$\n",
    "\n",
    "\n",
    "You will now solve this for $\\iota=t_1, \\iota_2, \\iota_3, \\ldots \\iota_{M-1}, t_M=1$, for $\\mathrm{M}=100$\n",
    "1. Start by moving all code (from the previous lab) regarding the assembly of $A$, into its own subroutine. The subroutine should return $A$ and have $N$ as an input value. Also move all code regarding the assembly of the right hand side into another subroutine, which should take $N$ and the boundary values as an input, and return F .\n",
    "2. Create a for-loop looping over the time-values $t_i$. You can assemble $A$ outside the for-loop, but you need to assemble the right hand side and solve the system inside the for-loop.\n",
    "3. Set $N=1000$ and measure the time it takes for the for-loop to run, e.g. by using timeit like below\n",
    "\n",
    "```{python}\n",
    "import timeit\n",
    "starttime=timeit.default_timer()\n",
    "#your code...\n",
    "print('solvetime is'+str(endtime-starttime))\n",
    "```\n",
    "4. Now utilize the power of LU-factorization. You can instead of using numpy. linalg. solve use scipy.linalg.lu_factor followed by scipy.linalg.lu_solve. The function scipy.linalg.lu_solve takes care of the forward and backward substitution step. Think about if you have to put scipy.linalg.lu_factor inside or outside the loop.\n",
    "5. Time your lu-version of the code. How does it compare to the timing of numpy. linalg .solve? Explain your result.\n",
    "6. What is numpy.linalg.solve actually doing under the hood? Google."
   ]
  },
  {
   "cell_type": "code",
   "execution_count": 22,
   "id": "e163fc5a",
   "metadata": {},
   "outputs": [],
   "source": [
    "import numpy as np\n",
    "import matplotlib.pyplot as plt\n",
    "from math import pi\n",
    "import time\n",
    "from scipy.linalg import lu_factor, lu_solve\n",
    "\n",
    "\n",
    "def assemble_A(N):\n",
    "    h = (pi / 2) / (N + 1)\n",
    "    A = np.zeros((N, N)) # Coefficient matrix of NxN dimension\n",
    "\n",
    "    # Discretized equation: y_{i-1} + (-2 + h^2)y_i + y_{i+1} = 0\n",
    "    # The matrix has 1 on the sub-diagonal and super-diagonal,\n",
    "    # and (-2 + h^2) on the main diagonal.\n",
    "\n",
    "    # main diag\n",
    "    np.fill_diagonal(A, -2 + h**2)\n",
    "\n",
    "    # sub diag, super diag\n",
    "    # A[i, i-1] = 1 for i = 1 to N-1\n",
    "    A[1:, :-1][np.eye(N-1, dtype=bool)] = 1\n",
    "    # A[i, i+1] = 1 for i = 0 to N-2\n",
    "    A[:-1, 1:][np.eye(N-1, dtype=bool)] = 1\n",
    "\n",
    "    return A\n",
    "\n",
    "\n",
    "\n",
    "def assemble_F(N, leftbc, rightbc):\n",
    "    F = np.zeros(N) # The result vector such that AU = F of size N\n",
    "\n",
    "    # Based on: y_{i-1} + (-2 + h^2)y_i + y_{i+1} = 0\n",
    "    # Equation for i=1 (first interior point): y_0 + (-2 + h^2)y_1 + y_2 = 0\n",
    "    # y_0 is the left boundary condition\n",
    "    # F[0] = -y_0 = -leftbc\n",
    "    F[0] = -leftbc\n",
    "\n",
    "    # Equation for i=N (last interior point): y_{N-1} + (-2 + h^2)y_N + y_{N+1} = 0\n",
    "    # y_{N+1} is the right boundary condition\n",
    "    # F[N-1] = -y_{N+1} = -rightbc\n",
    "    F[N - 1] = -rightbc\n",
    "\n",
    "    # For intermediate points (i=2 to N-1), y_{i-1} + (-2 + h^2)y_i + y_{i+1} = 0\n",
    "    # The right side is 0, which is already the default value in F\n",
    "\n",
    "    return F\n",
    "\n",
    "leftbc = 1 \n",
    "N = 1000  # Number of interior points for timing (as requested)\n",
    "M = 100   # Number of time steps\n",
    "time_points = np.linspace(0, 1, M)\n",
    "t = time_points\n",
    "rightbc = 2 * np.sin(pi * t)  # The right boundary condition y(pi/2) will be 2 * sin(pi * t)\n"
   ]
  },
  {
   "cell_type": "code",
   "execution_count": 23,
   "id": "4d6ebc1f",
   "metadata": {},
   "outputs": [
    {
     "name": "stdout",
     "output_type": "stream",
     "text": [
      "Timing with np.linalg.solve (N=1000)\n",
      "Solve time (np.linalg.solve) is 11.845492124557495 seconds\n"
     ]
    }
   ],
   "source": [
    "print(\"Timing with np.linalg.solve (N={})\".format(N))\n",
    "starttime = time.time()\n",
    "\n",
    "A = assemble_A(N) # Assemble A matrix once outside the time loop\n",
    "\n",
    "# Solve the system for each time step\n",
    "for t in time_points:\n",
    "    current_rightbc = 2 * np.sin(pi * t)\n",
    "    F = assemble_F(N, leftbc, current_rightbc) # Assemble F for current time\n",
    "    y_h_int = np.linalg.solve(A, F) # Solve the system A * y_h_int = F\n",
    "\n",
    "endtime = time.time()\n",
    "print('Solve time (np.linalg.solve) is ' + str(endtime - starttime) + ' seconds')"
   ]
  },
  {
   "cell_type": "code",
   "execution_count": 24,
   "id": "4cf496cd",
   "metadata": {},
   "outputs": [
    {
     "name": "stdout",
     "output_type": "stream",
     "text": [
      "\n",
      "Timing with scipy.linalg.lu_factor/lu_solve (N=1000)\n",
      "Solve time (scipy.linalg.lu_factor/lu_solve) is 0.26235413551330566 seconds\n"
     ]
    }
   ],
   "source": [
    "print(\"\\nTiming with scipy.linalg.lu_factor/lu_solve (N={})\".format(N))\n",
    "starttime = time.time()\n",
    "\n",
    "# Factorize A once outside the time loop. A is independent of time.\n",
    "lu, piv = lu_factor(A)\n",
    "\n",
    "# Solve the system for each time step using the LU factors\n",
    "for t in time_points:\n",
    "    current_rightbc = 2 * np.sin(pi * t) # Calculate the time-dependent BC\n",
    "    F = assemble_F(N, leftbc, current_rightbc) # Assemble F for current time\n",
    "    y_h_int = lu_solve((lu, piv), F) # Solve using LU factors\n",
    "\n",
    "endtime = time.time()\n",
    "print('Solve time (scipy.linalg.lu_factor/lu_solve) is ' + str(endtime - starttime) + ' seconds')"
   ]
  },
  {
   "cell_type": "markdown",
   "id": "e1dc4bb8",
   "metadata": {},
   "source": [
    "np.linalg.solve performs a factorization (like LU) followed by substitution internally for each call. When used repeatedly with the same matrix but different right-hand sides, it recomputes the expensive factorization step every time. By using scipy.linalg.lu_factor once outside the loop, we avoid these repeated factorizations, performing only the much faster substitution steps inside the loop using scipy.linalg.lu_solve."
   ]
  }
 ],
 "metadata": {
  "kernelspec": {
   "display_name": "base",
   "language": "python",
   "name": "python3"
  },
  "language_info": {
   "codemirror_mode": {
    "name": "ipython",
    "version": 3
   },
   "file_extension": ".py",
   "mimetype": "text/x-python",
   "name": "python",
   "nbconvert_exporter": "python",
   "pygments_lexer": "ipython3",
   "version": "3.12.2"
  }
 },
 "nbformat": 4,
 "nbformat_minor": 5
}
